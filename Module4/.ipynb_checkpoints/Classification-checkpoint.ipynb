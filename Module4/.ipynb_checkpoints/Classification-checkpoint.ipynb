{
 "cells": [
  {
   "cell_type": "markdown",
   "metadata": {},
   "source": [
    "# 分类应用\n",
    "\n",
    "在本实验中，您将使用 **逻辑回归** 执行 **二分类**。 分类器是一种机器学习模型，它将**标签**分成类别或**类**。 换句话说，分类模型是预测分类标签的**监督**机器学习模型。\n",
    "\n",
    "German Credit 银行客户数据用于确定特定人的信用风险是好是坏。 因此，客户的信用风险是您必须预测的类别。 在这种情况下，银行向不良风险客户发放贷款的成本是拒绝向良好客户贷款的成本的五倍。 在评估模型的性能时，这一事实将变得很重要。\n",
    "\n",
    "逻辑回归是一个线性模型，但具有非线性响应。 响应是二进制的，$\\{ 0,1 \\}$，或正负。 响应是类别的预测。\n",
    "\n",
    "在本实验中，您将学习以下内容：\n",
    "- 如何使用 scikit-learn 为分类模型准备数据。\n",
    "- 使用 scikit-learn 构建分类模型。\n",
    "- 评估分类模型的性能。\n",
    "- 使用重新加权标签和更改决策阈值等技术来改变假阳性和假阴性错误率之间的权衡。"
   ]
  },
  {
   "cell_type": "markdown",
   "metadata": {},
   "source": [
    "## 逻辑回归基础\n",
    "\n",
    "在本节中，介绍了逻辑回归模型的一些基本属性。\n",
    "\n",
    "首先，执行下面单元格中的代码以加载运行此笔记本所需的包。"
   ]
  },
  {
   "cell_type": "code",
   "execution_count": 1,
   "metadata": {},
   "outputs": [],
   "source": [
    "import pandas as pd\n",
    "import matplotlib.pyplot as plt\n",
    "import seaborn as sns\n",
    "import numpy as np\n",
    "import numpy.random as nr\n",
    "import math\n",
    "from sklearn import preprocessing\n",
    "import sklearn.model_selection as ms\n",
    "from sklearn import linear_model\n",
    "import sklearn.metrics as sklm\n",
    "\n",
    "%matplotlib inline"
   ]
  },
  {
   "cell_type": "markdown",
   "metadata": {},
   "source": [
    "逻辑回归被广泛用作分类模型。 逻辑回归是线性模型，具有二元响应“{False, True}”或“{0, 1}”。 您可以将此响应视为具有二项分布。 对于线性回归，响应只是线性的。 逻辑回归是具有非线性输出的线性回归模型。 使用 **S 形函数**（也称为 **逻辑函数**）将线性模型的响应转换或“压缩”为接近 0 和 1 的值。 此转换的结果是一个响应，它是两个类中每个类的对数似然。\n",
    "\n",
    "sigmoidal 或 logistic 函数可以表示如下：\n",
    "\n",
    "$$f(x) = \\frac{1}{1 + e^{-\\kappa(x - x_0)}} \\\\\n",
    "\\kappa = steepness$$\n",
    "\n",
    "执行下面单元格中的代码来计算和绘制 logistic 函数的示例。"
   ]
  },
  {
   "cell_type": "code",
   "execution_count": 2,
   "metadata": {
    "scrolled": true
   },
   "outputs": [
    {
     "data": {
      "text/plain": [
       "Text(0.5, 0, 'Value of output from linear regression')"
      ]
     },
     "execution_count": 2,
     "metadata": {},
     "output_type": "execute_result"
    },
    {
     "data": {
      "image/png": "[encoded data removed]",
      "text/plain": [
       "<Figure size 640x480 with 1 Axes>"
      ]
     },
     "metadata": {},
     "output_type": "display_data"
    }
   ],
   "source": [
    "xseq = np.arange(-7, 7, 0.1)\n",
    "\n",
    "logistic = [math.exp(v)/(1 + math.exp(v)) for v in xseq]\n",
    "\n",
    "plt.plot(xseq, logistic, color = 'red')\n",
    "plt.plot([-7,7], [0.5,0.5], color = 'blue')\n",
    "plt.plot([0,0], [0,1], color = 'blue')\n",
    "plt.title('Logistic function for two-class classification')\n",
    "plt.ylabel('log likelihood')\n",
    "plt.xlabel('Value of output from linear regression')"
   ]
  },
  {
   "cell_type": "markdown",
   "metadata": {},
   "source": [
    "让我们用一个简单的例子让它更具体一点。 假设我们有一个线性模型：\n",
    "\n",
    "$$\\hat{y} = \\beta_0 + \\beta_1\\ x$$\n",
    "\n",
    "现在，根据 $\\hat{y}$ 的值，我们希望将逻辑回归模型的输出分类为“0”或“1”。 将线性模型代入逻辑函数创建以下表达式：\n",
    "\n",
    "$$F(\\hat{y}) = \\frac{1}{1 + e^{-\\kappa(\\beta_0 + \\beta_1\\ x)}} $$\n",
    "\n",
    "通过这种方式，我们将定义在 $-\\infty \\le \\hat{y} \\le \\infty$ 上的线性模型的连续输出转换为二进制响应 $0 \\le F(\\hat{y}) \\le 1$ ."
   ]
  },
  {
   "cell_type": "markdown",
   "metadata": {},
   "source": [
    "## 加载并准备数据集\n",
    "\n",
    "第一步，加载数据集。 下面单元格中的代码加载数据集并将人类可读的名称分配给列。 执行此代码并检查结果。\n",
    "\n",
    "您现在应该非常熟悉接下来的几个部分，因为我们在之前的实验中已经详细介绍了它们。"
   ]
  },
  {
   "cell_type": "code",
   "execution_count": 3,
   "metadata": {},
   "outputs": [
    {
     "name": "stdout",
     "output_type": "stream",
     "text": [
      "(1000, 22)\n"
     ]
    },
    {
     "data": {
      "text/html": [
       "<div>\n",
       "<style scoped>\n",
       "    .dataframe tbody tr th:only-of-type {\n",
       "        vertical-align: middle;\n",
       "    }\n",
       "\n",
       "    .dataframe tbody tr th {\n",
       "        vertical-align: top;\n",
       "    }\n",
       "\n",
       "    .dataframe thead th {\n",
       "        text-align: right;\n",
       "    }\n",
       "</style>\n",
       "<table border=\"1\" class=\"dataframe\">\n",
       "  <thead>\n",
       "    <tr style=\"text-align: right;\">\n",
       "      <th></th>\n",
       "      <th>customer_id</th>\n",
       "      <th>checking_account_status</th>\n",
       "      <th>loan_duration_mo</th>\n",
       "      <th>credit_history</th>\n",
       "      <th>purpose</th>\n",
       "      <th>loan_amount</th>\n",
       "      <th>savings_account_balance</th>\n",
       "      <th>time_employed_yrs</th>\n",
       "      <th>payment_pcnt_income</th>\n",
       "      <th>gender_status</th>\n",
       "      <th>...</th>\n",
       "      <th>property</th>\n",
       "      <th>age_yrs</th>\n",
       "      <th>other_credit_outstanding</th>\n",
       "      <th>home_ownership</th>\n",
       "      <th>number_loans</th>\n",
       "      <th>job_category</th>\n",
       "      <th>dependents</th>\n",
       "      <th>telephone</th>\n",
       "      <th>foreign_worker</th>\n",
       "      <th>bad_credit</th>\n",
       "    </tr>\n",
       "  </thead>\n",
       "  <tbody>\n",
       "    <tr>\n",
       "      <th>0</th>\n",
       "      <td>1122334</td>\n",
       "      <td>&lt; 0 DM</td>\n",
       "      <td>6</td>\n",
       "      <td>critical account - other non-bank loans</td>\n",
       "      <td>radio/television</td>\n",
       "      <td>1169</td>\n",
       "      <td>unknown/none</td>\n",
       "      <td>&gt;= 7 years</td>\n",
       "      <td>4</td>\n",
       "      <td>male-single</td>\n",
       "      <td>...</td>\n",
       "      <td>real estate</td>\n",
       "      <td>67</td>\n",
       "      <td>none</td>\n",
       "      <td>own</td>\n",
       "      <td>2</td>\n",
       "      <td>skilled</td>\n",
       "      <td>1</td>\n",
       "      <td>yes</td>\n",
       "      <td>yes</td>\n",
       "      <td>0</td>\n",
       "    </tr>\n",
       "    <tr>\n",
       "      <th>1</th>\n",
       "      <td>6156361</td>\n",
       "      <td>0 - 200 DM</td>\n",
       "      <td>48</td>\n",
       "      <td>current loans paid</td>\n",
       "      <td>radio/television</td>\n",
       "      <td>5951</td>\n",
       "      <td>&lt; 100 DM</td>\n",
       "      <td>1 - 4 years</td>\n",
       "      <td>2</td>\n",
       "      <td>female-divorced/separated/married</td>\n",
       "      <td>...</td>\n",
       "      <td>real estate</td>\n",
       "      <td>22</td>\n",
       "      <td>none</td>\n",
       "      <td>own</td>\n",
       "      <td>1</td>\n",
       "      <td>skilled</td>\n",
       "      <td>1</td>\n",
       "      <td>none</td>\n",
       "      <td>yes</td>\n",
       "      <td>1</td>\n",
       "    </tr>\n",
       "    <tr>\n",
       "      <th>2</th>\n",
       "      <td>2051359</td>\n",
       "      <td>none</td>\n",
       "      <td>12</td>\n",
       "      <td>critical account - other non-bank loans</td>\n",
       "      <td>education</td>\n",
       "      <td>2096</td>\n",
       "      <td>&lt; 100 DM</td>\n",
       "      <td>4 - 7 years</td>\n",
       "      <td>2</td>\n",
       "      <td>male-single</td>\n",
       "      <td>...</td>\n",
       "      <td>real estate</td>\n",
       "      <td>49</td>\n",
       "      <td>none</td>\n",
       "      <td>own</td>\n",
       "      <td>1</td>\n",
       "      <td>unskilled-resident</td>\n",
       "      <td>2</td>\n",
       "      <td>none</td>\n",
       "      <td>yes</td>\n",
       "      <td>0</td>\n",
       "    </tr>\n",
       "    <tr>\n",
       "      <th>3</th>\n",
       "      <td>8740590</td>\n",
       "      <td>&lt; 0 DM</td>\n",
       "      <td>42</td>\n",
       "      <td>current loans paid</td>\n",
       "      <td>furniture/equipment</td>\n",
       "      <td>7882</td>\n",
       "      <td>&lt; 100 DM</td>\n",
       "      <td>4 - 7 years</td>\n",
       "      <td>2</td>\n",
       "      <td>male-single</td>\n",
       "      <td>...</td>\n",
       "      <td>building society savings/life insurance</td>\n",
       "      <td>45</td>\n",
       "      <td>none</td>\n",
       "      <td>for free</td>\n",
       "      <td>1</td>\n",
       "      <td>skilled</td>\n",
       "      <td>2</td>\n",
       "      <td>none</td>\n",
       "      <td>yes</td>\n",
       "      <td>0</td>\n",
       "    </tr>\n",
       "    <tr>\n",
       "      <th>4</th>\n",
       "      <td>3924540</td>\n",
       "      <td>&lt; 0 DM</td>\n",
       "      <td>24</td>\n",
       "      <td>past payment delays</td>\n",
       "      <td>car (new)</td>\n",
       "      <td>4870</td>\n",
       "      <td>&lt; 100 DM</td>\n",
       "      <td>1 - 4 years</td>\n",
       "      <td>3</td>\n",
       "      <td>male-single</td>\n",
       "      <td>...</td>\n",
       "      <td>unknown-none</td>\n",
       "      <td>53</td>\n",
       "      <td>none</td>\n",
       "      <td>for free</td>\n",
       "      <td>2</td>\n",
       "      <td>skilled</td>\n",
       "      <td>2</td>\n",
       "      <td>none</td>\n",
       "      <td>yes</td>\n",
       "      <td>1</td>\n",
       "    </tr>\n",
       "  </tbody>\n",
       "</table>\n",
       "<p>5 rows × 22 columns</p>\n",
       "</div>"
      ],
      "text/plain": [
       "   customer_id checking_account_status  loan_duration_mo  \\\n",
       "0      1122334                  < 0 DM                 6   \n",
       "1      6156361              0 - 200 DM                48   \n",
       "2      2051359                    none                12   \n",
       "3      8740590                  < 0 DM                42   \n",
       "4      3924540                  < 0 DM                24   \n",
       "\n",
       "                            credit_history              purpose  loan_amount  \\\n",
       "0  critical account - other non-bank loans     radio/television         1169   \n",
       "1                       current loans paid     radio/television         5951   \n",
       "2  critical account - other non-bank loans            education         2096   \n",
       "3                       current loans paid  furniture/equipment         7882   \n",
       "4                      past payment delays            car (new)         4870   \n",
       "\n",
       "  savings_account_balance time_employed_yrs  payment_pcnt_income  \\\n",
       "0            unknown/none        >= 7 years                    4   \n",
       "1                < 100 DM       1 - 4 years                    2   \n",
       "2                < 100 DM       4 - 7 years                    2   \n",
       "3                < 100 DM       4 - 7 years                    2   \n",
       "4                < 100 DM       1 - 4 years                    3   \n",
       "\n",
       "                       gender_status  ...  \\\n",
       "0                        male-single  ...   \n",
       "1  female-divorced/separated/married  ...   \n",
       "2                        male-single  ...   \n",
       "3                        male-single  ...   \n",
       "4                        male-single  ...   \n",
       "\n",
       "                                  property  age_yrs other_credit_outstanding  \\\n",
       "0                              real estate       67                     none   \n",
       "1                              real estate       22                     none   \n",
       "2                              real estate       49                     none   \n",
       "3  building society savings/life insurance       45                     none   \n",
       "4                             unknown-none       53                     none   \n",
       "\n",
       "   home_ownership number_loans        job_category  dependents telephone  \\\n",
       "0             own            2             skilled           1       yes   \n",
       "1             own            1             skilled           1      none   \n",
       "2             own            1  unskilled-resident           2      none   \n",
       "3        for free            1             skilled           2      none   \n",
       "4        for free            2             skilled           2      none   \n",
       "\n",
       "   foreign_worker bad_credit  \n",
       "0             yes          0  \n",
       "1             yes          1  \n",
       "2             yes          0  \n",
       "3             yes          0  \n",
       "4             yes          1  \n",
       "\n",
       "[5 rows x 22 columns]"
      ]
     },
     "execution_count": 3,
     "metadata": {},
     "output_type": "execute_result"
    }
   ],
   "source": [
    "credit = pd.read_csv('German_Credit_Preped.csv')\n",
    "print(credit.shape)\n",
    "credit.head()"
   ]
  },
  {
   "cell_type": "markdown",
   "metadata": {},
   "source": [
    "有 22 列，1 个客户标识符列，20 个特征，外加一个标签列。 这些特征代表银行可能拥有的关于其客户的信息。"
   ]
  },
  {
   "cell_type": "markdown",
   "metadata": {},
   "source": [
    "您应该了解此数据集的另一方面。 该标签具有显着的**类别不平衡**。 类别不平衡意味着标签类别的案例数量不相等。\n",
    "\n",
    "要检查这些数据中的类不平衡，请执行下面单元格中的代码。"
   ]
  },
  {
   "cell_type": "code",
   "execution_count": 4,
   "metadata": {},
   "outputs": [
    {
     "name": "stdout",
     "output_type": "stream",
     "text": [
      "            credit_history\n",
      "bad_credit                \n",
      "0                      700\n",
      "1                      300\n"
     ]
    }
   ],
   "source": [
    "credit_counts = credit[['credit_history', 'bad_credit']].groupby('bad_credit').count()\n",
    "print(credit_counts)"
   ]
  },
  {
   "cell_type": "markdown",
   "metadata": {},
   "source": [
    "请注意，只有 30% 的案例有不良信用。 这并不奇怪，因为银行通常会留住信用良好的客户。 然而，这种不平衡会使任何模型的训练产生偏差。\n",
    "\n",
    "在继续之前，请回答课程页面上的**问题 1**。"
   ]
  },
  {
   "cell_type": "markdown",
   "metadata": {},
   "source": [
    "## 为 scikit-learn 模型准备数据\n",
    "\n",
    "准备好数据后，就可以创建 scikit-learn 模型所需的 numpy 数组了。\n",
    "\n",
    "下面单元格中的代码创建了一个标签值的 numpy 数组。 执行这段代码。"
   ]
  },
  {
   "cell_type": "code",
   "execution_count": 9,
   "metadata": {},
   "outputs": [],
   "source": [
    "labels = np.array(credit['bad_credit'])"
   ]
  },
  {
   "cell_type": "markdown",
   "metadata": {},
   "source": [
    "现在，您需要创建 numpy 特征数组或 **模型矩阵**。 作为第一步，需要将分类变量重新编码为二进制虚拟变量。 \n",
    "\n",
    "正如在另一课中讨论的，这是一个三步过程：\n",
    "\n",
    "1. 将分类字符串变量编码为整数。/Encode the categorical string variables as integers.\n",
    "2. 将整数编码变量转换为虚拟变量。/Transform the integer coded variables to dummy variables. \n",
    "3. 将每个虚拟编码分类变量附加到模型矩阵。/Append each dummy coded categorical variable to the model matrix. \n",
    "\n",
    "执行下面单元格中的代码以执行此处理并检查结果。"
   ]
  },
  {
   "cell_type": "code",
   "execution_count": 5,
   "metadata": {},
   "outputs": [
    {
     "name": "stdout",
     "output_type": "stream",
     "text": [
      "(1000, 31)\n",
      "[[0. 1. 0. 0. 0. 1. 0. 0. 0. 0. 0. 0. 0. 0. 0. 0. 1. 0. 0. 0. 0. 0. 1. 0.\n",
      "  0. 0. 1. 0. 0. 1. 0.]\n",
      " [1. 0. 0. 0. 0. 0. 1. 0. 0. 0. 0. 0. 0. 0. 0. 0. 1. 0. 0. 1. 0. 0. 0. 0.\n",
      "  1. 0. 0. 0. 0. 1. 0.]]\n"
     ]
    }
   ],
   "source": [
    "def encode_string(cat_features):\n",
    "    ## First encode the strings to numeric categories\n",
    "    enc = preprocessing.LabelEncoder()\n",
    "    enc.fit(cat_features)\n",
    "    enc_cat_features = enc.transform(cat_features)\n",
    "    ## Now, apply one hot encoding\n",
    "    ohe = preprocessing.OneHotEncoder()\n",
    "    encoded = ohe.fit(enc_cat_features.reshape(-1,1))\n",
    "    return encoded.transform(enc_cat_features.reshape(-1,1)).toarray()\n",
    "\n",
    "categorical_columns = ['credit_history', 'purpose', 'gender_status', \n",
    "                       'time_in_residence', 'property']\n",
    "\n",
    "Features = encode_string(credit['checking_account_status'])\n",
    "for col in categorical_columns:\n",
    "    temp = encode_string(credit[col])\n",
    "    Features = np.concatenate([Features, temp], axis = 1)\n",
    "\n",
    "print(Features.shape)\n",
    "print(Features[:2, :])    "
   ]
  },
  {
   "cell_type": "markdown",
   "metadata": {},
   "source": [
    "接下来，必须通过执行下面单元格中的代码将数字特征连接到 numpy 数组。"
   ]
  },
  {
   "cell_type": "code",
   "execution_count": 8,
   "metadata": {},
   "outputs": [
    {
     "name": "stdout",
     "output_type": "stream",
     "text": [
      "(1000, 39)\n",
      "[[0.000e+00 1.000e+00 0.000e+00 0.000e+00 0.000e+00 1.000e+00 0.000e+00\n",
      "  0.000e+00 0.000e+00 0.000e+00 0.000e+00 0.000e+00 0.000e+00 0.000e+00\n",
      "  0.000e+00 0.000e+00 1.000e+00 0.000e+00 0.000e+00 0.000e+00 0.000e+00\n",
      "  0.000e+00 1.000e+00 0.000e+00 0.000e+00 0.000e+00 1.000e+00 0.000e+00\n",
      "  0.000e+00 1.000e+00 0.000e+00 6.000e+00 1.169e+03 4.000e+00 6.700e+01\n",
      "  6.000e+00 1.169e+03 4.000e+00 6.700e+01]\n",
      " [1.000e+00 0.000e+00 0.000e+00 0.000e+00 0.000e+00 0.000e+00 1.000e+00\n",
      "  0.000e+00 0.000e+00 0.000e+00 0.000e+00 0.000e+00 0.000e+00 0.000e+00\n",
      "  0.000e+00 0.000e+00 1.000e+00 0.000e+00 0.000e+00 1.000e+00 0.000e+00\n",
      "  0.000e+00 0.000e+00 0.000e+00 1.000e+00 0.000e+00 0.000e+00 0.000e+00\n",
      "  0.000e+00 1.000e+00 0.000e+00 4.800e+01 5.951e+03 2.000e+00 2.200e+01\n",
      "  4.800e+01 5.951e+03 2.000e+00 2.200e+01]]\n"
     ]
    }
   ],
   "source": [
    "Features = np.concatenate([Features, np.array(credit[['loan_duration_mo', 'loan_amount', \n",
    "                            'payment_pcnt_income', 'age_yrs']])], axis = 1)\n",
    "print(Features.shape)\n",
    "print(Features[:2, :])   "
   ]
  },
  {
   "cell_type": "markdown",
   "metadata": {},
   "source": [
    "使用虚拟变量，原来的 6 个分类特征现在是 31 个虚拟变量。 加上 4 个数字特征，总共有 35 个。\n",
    "\n",
    "现在，回答课程页面上的**问题 2**。"
   ]
  },
  {
   "cell_type": "markdown",
   "metadata": {},
   "source": [
    "您必须将案例拆分为训练和测试数据集。 这一步很关键。 如果在训练数据上测试机器学习模型，结果将既有偏差又过于乐观。\n",
    "\n",
    "下面单元格中的代码执行以下处理：\n",
    "1. 使用 scikit-learn 的 model_selection 包中的 train_test_split 函数对索引向量进行伯努利采样。\n",
    "2. 结果索引数组的第一列包含训练案例的样本索引。\n",
    "3. 结果索引数组的第二列包含测试用例样本的索引。\n",
    "\n",
    "执行代码。"
   ]
  },
  {
   "cell_type": "code",
   "execution_count": 10,
   "metadata": {},
   "outputs": [],
   "source": [
    "## Randomly sample cases to create independent training and test data\n",
    "nr.seed(9988)\n",
    "indx = range(Features.shape[0])\n",
    "indx = ms.train_test_split(indx, test_size = 300)\n",
    "X_train = Features[indx[0],:]\n",
    "y_train = np.ravel(labels[indx[0]])\n",
    "X_test = Features[indx[1],:]\n",
    "y_test = np.ravel(labels[indx[1]])"
   ]
  },
  {
   "cell_type": "markdown",
   "metadata": {},
   "source": [
    "准备这些数据只需要一个步骤。 必须重新调整数值特征，以便它们具有相似的值范围。 重新缩放可防止仅因为具有更大范围的数值变量而对模型训练产生不当影响的特征。\n",
    "\n",
    "下面单元格中的代码使用 Scikit Learn 预处理包中的 StanardScaler 函数来缩放数字特征的 Zscore。 请注意，缩放器仅适用于训练数据。 训练有素的缩放器将这些应用于测试数据。 测试数据应始终使用训练数据中的参数进行缩放。\n",
    "\n",
    "执行这段代码。"
   ]
  },
  {
   "cell_type": "code",
   "execution_count": null,
   "metadata": {},
   "outputs": [],
   "source": [
    "scaler = preprocessing.StandardScaler().fit(X_train[:,34:])\n",
    "X_train[:,34:] = scaler.transform(X_train[:,34:])\n",
    "X_test[:,34:] = scaler.transform(X_test[:,34:])\n",
    "X_train[:2,]"
   ]
  },
  {
   "cell_type": "markdown",
   "metadata": {},
   "source": [
    "现在缩放了四个数字特征。"
   ]
  },
  {
   "cell_type": "markdown",
   "metadata": {},
   "source": [
    "## 构建逻辑回归模型\n",
    "\n",
    "现在，是时候计算逻辑回归模型了。 下面单元格中的代码执行以下操作：\n",
    "1. 使用 scikit-learn `linear_model` 包中的 `LogisticRegression` 方法定义逻辑回归模型对象。\n",
    "2. 使用特征的 numpy 数组和训练数据集的标签来拟合线性模型。\n",
    "\n",
    "执行这段代码。"
   ]
  },
  {
   "cell_type": "code",
   "execution_count": 11,
   "metadata": {},
   "outputs": [
    {
     "data": {
      "text/html": [
       "<style>#sk-container-id-1 {color: black;background-color: white;}#sk-container-id-1 pre{padding: 0;}#sk-container-id-1 div.sk-toggleable {background-color: white;}#sk-container-id-1 label.sk-toggleable__label {cursor: pointer;display: block;width: 100%;margin-bottom: 0;padding: 0.3em;box-sizing: border-box;text-align: center;}#sk-container-id-1 label.sk-toggleable__label-arrow:before {content: \"▸\";float: left;margin-right: 0.25em;color: #696969;}#sk-container-id-1 label.sk-toggleable__label-arrow:hover:before {color: black;}#sk-container-id-1 div.sk-estimator:hover label.sk-toggleable__label-arrow:before {color: black;}#sk-container-id-1 div.sk-toggleable__content {max-height: 0;max-width: 0;overflow: hidden;text-align: left;background-color: #f0f8ff;}#sk-container-id-1 div.sk-toggleable__content pre {margin: 0.2em;color: black;border-radius: 0.25em;background-color: #f0f8ff;}#sk-container-id-1 input.sk-toggleable__control:checked~div.sk-toggleable__content {max-height: 200px;max-width: 100%;overflow: auto;}#sk-container-id-1 input.sk-toggleable__control:checked~label.sk-toggleable__label-arrow:before {content: \"▾\";}#sk-container-id-1 div.sk-estimator input.sk-toggleable__control:checked~label.sk-toggleable__label {background-color: #d4ebff;}#sk-container-id-1 div.sk-label input.sk-toggleable__control:checked~label.sk-toggleable__label {background-color: #d4ebff;}#sk-container-id-1 input.sk-hidden--visually {border: 0;clip: rect(1px 1px 1px 1px);clip: rect(1px, 1px, 1px, 1px);height: 1px;margin: -1px;overflow: hidden;padding: 0;position: absolute;width: 1px;}#sk-container-id-1 div.sk-estimator {font-family: monospace;background-color: #f0f8ff;border: 1px dotted black;border-radius: 0.25em;box-sizing: border-box;margin-bottom: 0.5em;}#sk-container-id-1 div.sk-estimator:hover {background-color: #d4ebff;}#sk-container-id-1 div.sk-parallel-item::after {content: \"\";width: 100%;border-bottom: 1px solid gray;flex-grow: 1;}#sk-container-id-1 div.sk-label:hover label.sk-toggleable__label {background-color: #d4ebff;}#sk-container-id-1 div.sk-serial::before {content: \"\";position: absolute;border-left: 1px solid gray;box-sizing: border-box;top: 0;bottom: 0;left: 50%;z-index: 0;}#sk-container-id-1 div.sk-serial {display: flex;flex-direction: column;align-items: center;background-color: white;padding-right: 0.2em;padding-left: 0.2em;position: relative;}#sk-container-id-1 div.sk-item {position: relative;z-index: 1;}#sk-container-id-1 div.sk-parallel {display: flex;align-items: stretch;justify-content: center;background-color: white;position: relative;}#sk-container-id-1 div.sk-item::before, #sk-container-id-1 div.sk-parallel-item::before {content: \"\";position: absolute;border-left: 1px solid gray;box-sizing: border-box;top: 0;bottom: 0;left: 50%;z-index: -1;}#sk-container-id-1 div.sk-parallel-item {display: flex;flex-direction: column;z-index: 1;position: relative;background-color: white;}#sk-container-id-1 div.sk-parallel-item:first-child::after {align-self: flex-end;width: 50%;}#sk-container-id-1 div.sk-parallel-item:last-child::after {align-self: flex-start;width: 50%;}#sk-container-id-1 div.sk-parallel-item:only-child::after {width: 0;}#sk-container-id-1 div.sk-dashed-wrapped {border: 1px dashed gray;margin: 0 0.4em 0.5em 0.4em;box-sizing: border-box;padding-bottom: 0.4em;background-color: white;}#sk-container-id-1 div.sk-label label {font-family: monospace;font-weight: bold;display: inline-block;line-height: 1.2em;}#sk-container-id-1 div.sk-label-container {text-align: center;}#sk-container-id-1 div.sk-container {/* jupyter's `normalize.less` sets `[hidden] { display: none; }` but bootstrap.min.css set `[hidden] { display: none !important; }` so we also need the `!important` here to be able to override the default hidden behavior on the sphinx rendered scikit-learn.org. See: https://github.com/scikit-learn/scikit-learn/issues/21755 */display: inline-block !important;position: relative;}#sk-container-id-1 div.sk-text-repr-fallback {display: none;}</style><div id=\"sk-container-id-1\" class=\"sk-top-container\"><div class=\"sk-text-repr-fallback\"><pre>LogisticRegression()</pre><b>In a Jupyter environment, please rerun this cell to show the HTML representation or trust the notebook. <br />On GitHub, the HTML representation is unable to render, please try loading this page with nbviewer.org.</b></div><div class=\"sk-container\" hidden><div class=\"sk-item\"><div class=\"sk-estimator sk-toggleable\"><input class=\"sk-toggleable__control sk-hidden--visually\" id=\"sk-estimator-id-1\" type=\"checkbox\" checked><label for=\"sk-estimator-id-1\" class=\"sk-toggleable__label sk-toggleable__label-arrow\">LogisticRegression</label><div class=\"sk-toggleable__content\"><pre>LogisticRegression()</pre></div></div></div></div></div>"
      ],
      "text/plain": [
       "LogisticRegression()"
      ]
     },
     "execution_count": 11,
     "metadata": {},
     "output_type": "execute_result"
    }
   ],
   "source": [
    "logistic_mod = linear_model.LogisticRegression() \n",
    "logistic_mod.fit(X_train, y_train)"
   ]
  },
  {
   "cell_type": "markdown",
   "metadata": {},
   "source": [
    "该模型已计算。 请注意，已打印模型对象的配置。 在这种情况下，只显示默认设置，因为没有提供参数来创建模型对象。"
   ]
  },
  {
   "cell_type": "markdown",
   "metadata": {},
   "source": [
    "现在，通过执行下面单元格中的代码来打印和检查模型系数。"
   ]
  },
  {
   "cell_type": "code",
   "execution_count": 12,
   "metadata": {},
   "outputs": [
    {
     "name": "stdout",
     "output_type": "stream",
     "text": [
      "[-0.1689785]\n",
      "[[ 1.57822550e-01  8.77992037e-01 -3.64828639e-02 -1.16829666e+00\n",
      "   2.02383932e-01 -5.98543683e-01  3.66936368e-02  2.13696197e-01\n",
      "  -2.31950167e-02  9.35416699e-03  3.83323685e-01 -1.84226462e-01\n",
      "   2.34862832e-02  7.58560457e-02  3.12305214e-02 -3.31282025e-03\n",
      "  -4.86132340e-01 -8.56376371e-04 -1.76876376e-02  8.63514923e-02\n",
      "   6.75709659e-02 -7.04619033e-02 -2.52425488e-01 -1.35647172e-01\n",
      "  -3.10337692e-02 -1.21703480e-01  1.19419488e-01  1.18424958e-02\n",
      "  -9.04112566e-02 -3.64611294e-01  2.74215122e-01  1.21764605e-02\n",
      "   1.06587156e-05  4.23040913e-02 -1.56864014e-02  1.21764605e-02\n",
      "   1.06587156e-05  4.23040913e-02 -1.56864014e-02]]\n"
     ]
    }
   ],
   "source": [
    "print(logistic_mod.intercept_)\n",
    "print(logistic_mod.coef_)"
   ]
  },
  {
   "cell_type": "markdown",
   "metadata": {},
   "source": [
    "首先，请注意模型系数看起来就像回归模型一样。 如前所述，这是预期的。 此外，几乎所有系数都具有相同的大小，这表明在给定特征数量的情况下，该模型可能会过度拟合。"
   ]
  },
  {
   "cell_type": "markdown",
   "metadata": {},
   "source": [
    "回想一下，逻辑回归模型输出每个类别的概率。 概率最高的类别作为分数（预测）。 执行代码和下面的单元格来计算和显示测试特征集的这些类概率的样本。"
   ]
  },
  {
   "cell_type": "code",
   "execution_count": 13,
   "metadata": {},
   "outputs": [
    {
     "name": "stdout",
     "output_type": "stream",
     "text": [
      "[[0.88087113 0.11912887]\n",
      " [0.40242188 0.59757812]\n",
      " [0.96325478 0.03674522]\n",
      " [0.23996811 0.76003189]\n",
      " [0.69335107 0.30664893]\n",
      " [0.94305557 0.05694443]\n",
      " [0.88179041 0.11820959]\n",
      " [0.59979355 0.40020645]\n",
      " [0.9083722  0.0916278 ]\n",
      " [0.90397271 0.09602729]\n",
      " [0.59300451 0.40699549]\n",
      " [0.39950712 0.60049288]\n",
      " [0.51187586 0.48812414]\n",
      " [0.80875558 0.19124442]\n",
      " [0.27502557 0.72497443]]\n"
     ]
    }
   ],
   "source": [
    "probabilities = logistic_mod.predict_proba(X_test)\n",
    "print(probabilities[:15,:])"
   ]
  },
  {
   "cell_type": "markdown",
   "metadata": {},
   "source": [
    "第一列是得分为 $0$ 的概率，第二列是得分为 $1$ 的概率。 请注意，对于大多数（但不是所有）情况，得分为 $0$ 的概率高于 $1$。"
   ]
  },
  {
   "cell_type": "markdown",
   "metadata": {},
   "source": [
    "## 对分类模型进行评分和评估\n",
    "\n",
    "现在已经计算出类概率，必须将这些值转换为实际的类分数。 回想一下，二分类逻辑回归的对数似然是通过对线性模型的输出应用 S 形或逻辑变换来计算的。 简单的选择是将两种可能性之间的阈值设置为 $0.5$。 下面单元格中的代码将此初始阈值应用于测试数据得分为 $0$ 的概率。 然后显示一些示例以及已知标签。 执行此代码并检查结果。"
   ]
  },
  {
   "cell_type": "code",
   "execution_count": 19,
   "metadata": {},
   "outputs": [
    {
     "name": "stdout",
     "output_type": "stream",
     "text": [
      "[0 1 0 1 0 0 0 0 0 0 0 1 0 0 1]\n",
      "[0 0 0 1 0 0 0 0 1 0 0 1 1 0 1]\n"
     ]
    }
   ],
   "source": [
    "def score_model(probs, threshold):\n",
    "    return np.array([1 if x > threshold else 0 for x in probs[:,1]])\n",
    "scores = score_model(probabilities, 0.5)\n",
    "print(np.array(scores[:15]))\n",
    "print(y_test[:15])"
   ]
  },
  {
   "cell_type": "markdown",
   "metadata": {},
   "source": [
    "一些积极的 ($1$) 预测与第二行中的测试标签一致，但有几个不一致。"
   ]
  },
  {
   "cell_type": "markdown",
   "metadata": {},
   "source": [
    "给定测试数据的结果，你如何量化模型的性能？ 通常，您必须**始终使用多个指标来评估任何机器学习模型的性能**，包括分类器。\n",
    "\n",
    "对于分类器，有许多常用的指标。 **混淆矩阵**以表格格式列出正确和错误分类的案例。 从混淆矩阵中的值派生出各种指标。 下面简要回顾了一些常见的情况。\n",
    "\n",
    "**混淆矩阵Confusion matrix**\n",
    "\n",
    "如前所述，混淆矩阵列出了正确和错误分类的案例。 对于二元（两类）情况，混淆矩阵组织如下：\n",
    "\n",
    "| | 得分积极 | 负分|\n",
    "|-----|:-----:|:-----:|\n",
    "|**实际为正** | 真阳性 | 假阴性 |\n",
    "|**实际为负**| 误报 | 真阴性 |\n",
    "\n",
    "这里矩阵中的四个元素定义为：\n",
    "**True Positive** 或 **TP** 是带有阳性标签的案例，已被正确分类为阳性。\n",
    "**True Negative** 或 **TN** 是带有负面标签的案例，已被正确分类为负面。\n",
    "**False Positive** 或 **FP** 是带有负面标签但被错误分类为正面的案例。\n",
    "**假阴性** 或 **FN** 是带有阳性标签但被错误分类为阴性的案例。\n",
    "\n",
    "创建混淆矩阵时，重要的是要理解和维护区分正标签值和负标签值的约定。 通常的惯例是将 $1$ 案例称为正例，将 $0$ 案例称为负例。\n",
    "\n",
    "请注意，在计算混淆矩阵时，存在歧义，在这种情况下，哪些情况被认为是积极的，哪些情况被认为是消极的。 每当您检查混淆矩阵时，最好花点时间来决定哪种情况。 此步骤将帮助您将结果与手头的问题联系起来。\n",
    "\n",
    "**准确性**\n",
    "\n",
    "准确性是一个简单且经常被误用的指标。 简而言之，准确性是正确分类的案例的分数。 对于二类分类器，准确度写为：\n",
    "\n",
    "$$准确度Accuracy = \\frac{TP+TN}{TP+FP+TN+FN}$$\n",
    "\n",
    "准确性可能会产生误导。 例如，假设使用分类器检测欺诈账户，欺诈率低于 1%。 一个天真的模型是说所有账户都不是欺诈性的。 该模型的精度超过 0.99。 这听起来令人印象深刻，但显然毫无用处。\n",
    "\n",
    "**精确**\n",
    "\n",
    "精度是用该标签值分类的所有案例中正确分类标签案例的分数。 我们可以通过以下关系来表示精度：\n",
    "\n",
    "$$精度Precision = \\frac{M_{i,i}}{\\sum_j M_{i,j}}$$\n",
    "\n",
    "换句话说，精度统计量是标签值正确分类的个案数除以列中的所有个案。 因此，精度对针对给定分值正确分类的案例数很敏感。\n",
    "\n",
    "**Recall**\n",
    "\n",
    "召回率是正确分类标签值的案例在实际具有该标签值的所有案例中所占的比例。 我们可以通过以下关系来表示召回：\n",
    "\n",
    "$$召回Recall = \\frac{M_{i,i}}{\\sum_i M_{i,j}}$$\n",
    "\n",
    "换句话说，召回统计量是标签值正确分类的个案数除以行中的所有个案。 因此，精度对针对给定的真实标签值正确分类的案例数量很敏感。\n",
    "\n",
    "**F1**\n",
    "\n",
    "F1 统计量是精确率和召回率的加权平均值。 我们可以用下面的关系来表示F1：\n",
    "\n",
    "$$F1 = 2 * \\frac{精度 * 召回}{精度 + 召回}$$\n",
    "\n",
    "$$F1 = 2 * \\frac{precision * recall}{precision + recall}$$\n",
    "\n",
    "换句话说，F1 是整体模型性能的加权指标。\n",
    "\n",
    "**ROC** 和 **AUC**\n",
    "\n",
    "受试者工作特征或 ROC 是一条曲线，显示纵轴上的真阳性率和横轴上的假阳性率之间的关系。 ROC 曲线显示了真阳性率和假阳性率之间的权衡。 下面举例说明。\n",
    "\n",
    "原则上，您可以在此曲线上为分类器选择所需的操作点。 向左偏向以牺牲真阳性率为代价的低误报率。 向右有利于以较高的假阳性率为代价的高真阳性率。\n",
    "\n",
    "\n",
    "\n",
    "<img src=\"img/ROC_AUC.JPG\" alt=\"绘图\" width=\"480px\"/>\n",
    "\n",
    "<center><b>平衡二分类问题的 AUC 值的 ROC 曲线</b></center>\n",
    "\n",
    "AUC 是 ROC 曲线下的面积或积分。 分类器的整体性能由曲线下面积或 AUC 来衡量。 但是，您如何解释特定的 AUC 值？ AUC 越高，达到所需真阳性率所需的假阳性率增加就越低。 对于理想的分类器，AUC 为 1.0。 真阳性率是在 0 假阳性率的情况下实现的。 此行为意味着 AUC 可用于比较分类器。 AUC 越高的分类器通常越好。\n",
    "\n",
    "对于平衡情况，随机猜测给出 AUC 或 0.5。 平衡案例具有相等数量的正面案例和负面案例。 所以伯努利抽样（随机猜测）的概率\n",
    "  对于正例，将产生一条 ROC 曲线，该曲线从\n",
    "  到\n",
    ". 该三角形区域下方的面积为 0.5。 人们常说，AUC 大于 0.5 的分类器优于随机猜测。 但是，对于不平衡的情况，这种说法通常是不正确的。"
   ]
  },
  {
   "cell_type": "markdown",
   "metadata": {},
   "source": [
    "下面单元格中的代码实现了一个计算和显示上述分类器性能指标的函数。 代码指标是使用 scikit-learn 的 metrics 包中的 precision_recall_fscore_support 和 accuracy_score 函数计算的。 混淆矩阵是使用同一包中的“confusion_matrix”函数计算的。 执行此代码并检查逻辑回归模型的结果。"
   ]
  },
  {
   "cell_type": "code",
   "execution_count": 20,
   "metadata": {},
   "outputs": [
    {
     "name": "stdout",
     "output_type": "stream",
     "text": [
      "                 Confusion matrix\n",
      "                 Score positive    Score negative\n",
      "Actual positive       182                30\n",
      "Actual negative        41                47\n",
      "\n",
      "Accuracy  0.76\n",
      " \n",
      "           Positive      Negative\n",
      "Num case      212            88\n",
      "Precision    0.82          0.61\n",
      "Recall       0.86          0.53\n",
      "F1           0.84          0.57\n"
     ]
    }
   ],
   "source": [
    "def print_metrics(labels, scores):\n",
    "    metrics = sklm.precision_recall_fscore_support(labels, scores)\n",
    "    conf = sklm.confusion_matrix(labels, scores)\n",
    "    print('                 Confusion matrix')\n",
    "    print('                 Score positive    Score negative')\n",
    "    print('Actual positive    %6d' % conf[0,0] + '             %5d' % conf[0,1])\n",
    "    print('Actual negative    %6d' % conf[1,0] + '             %5d' % conf[1,1])\n",
    "    print('')\n",
    "    print('Accuracy  %0.2f' % sklm.accuracy_score(labels, scores))\n",
    "    print(' ')\n",
    "    print('           Positive      Negative')\n",
    "    print('Num case   %6d' % metrics[3][0] + '        %6d' % metrics[3][1])\n",
    "    print('Precision  %6.2f' % metrics[0][0] + '        %6.2f' % metrics[0][1])\n",
    "    print('Recall     %6.2f' % metrics[1][0] + '        %6.2f' % metrics[1][1])\n",
    "    print('F1         %6.2f' % metrics[2][0] + '        %6.2f' % metrics[2][1])\n",
    "\n",
    "\n",
    "    \n",
    "print_metrics(y_test, scores)    "
   ]
  },
  {
   "cell_type": "markdown",
   "metadata": {},
   "source": [
    "检查这些结果：\n",
    "\n",
    "1. 混淆矩阵表现出以下特点； a) 大多数阳性案例被正确分类，182 对 30，然而，b) 可能阴性案例被错误分类，只有 49 个正确，而 39 个不正确。\n",
    "2. 整体准确率为0.77。 然而，正如刚刚观察到的那样，这是**极具误导性的！**。 负面案例实际上是不好分类的，而银行最关心的正是这些不良信用客户。 这不是一个不寻常的案例。 应始终以健康的怀疑态度看待准确度数字。\n",
    "3. 阶级失衡得到证实。 在 300 个测试用例中，212 个为正，88 个为负。\n",
    "4. precision、recall 和 F1 都表明 positive cases 分类得相当好，而 negative cases 则不然。 如前所述，正是这些负面案例对银行来说最为重要。\n",
    "\n",
    "最后，下面单元格中的代码计算并显示 ROC 曲线和 AUC。 scikit-learn `metrics` 包中的 `roc_curve` 和 `auc` 函数用于计算这些值。\n",
    "\n",
    "执行此代码，检查结果，并回答课程页面上的**问题 3**。"
   ]
  },
  {
   "cell_type": "code",
   "execution_count": 21,
   "metadata": {},
   "outputs": [
    {
     "data": {
      "image/png": "[encoded data removed]",
      "text/plain": [
       "<Figure size 640x480 with 1 Axes>"
      ]
     },
     "metadata": {},
     "output_type": "display_data"
    }
   ],
   "source": [
    "def plot_auc(labels, probs):\n",
    "    ## Compute the false positive rate, true positive rate\n",
    "    ## and threshold along with the AUC\n",
    "    fpr, tpr, threshold = sklm.roc_curve(labels, probs[:,1])\n",
    "    auc = sklm.auc(fpr, tpr)\n",
    "    \n",
    "    ## Plot the result\n",
    "    plt.title('Receiver Operating Characteristic')\n",
    "    plt.plot(fpr, tpr, color = 'orange', label = 'AUC = %0.2f' % auc)\n",
    "    plt.legend(loc = 'lower right')\n",
    "    plt.plot([0, 1], [0, 1],'r--')\n",
    "    plt.xlim([0, 1])\n",
    "    plt.ylim([0, 1])\n",
    "    plt.ylabel('True Positive Rate')\n",
    "    plt.xlabel('False Positive Rate')\n",
    "    plt.show()\n",
    "    \n",
    "plot_auc(y_test, probabilities)    "
   ]
  },
  {
   "cell_type": "markdown",
   "metadata": {},
   "source": [
    "ROC 曲线位于红色虚线对角线上方，AUC 为 0.77。 但是，考虑到每个负例的两个正例的类别不平衡，这有多好？\n",
    "\n",
    "一个比较点是一个朴素的“分类器”，它将所有案例设置为正面。 下面单元格中的代码包含这样一个分类器。 该算法根本不是真正的分类器。 这个“分类器”是硬编码的。 然后计算并显示 ROC 曲线和 AUC。 运行这段代码，并检查结果。"
   ]
  },
  {
   "cell_type": "code",
   "execution_count": 22,
   "metadata": {
    "scrolled": false
   },
   "outputs": [
    {
     "name": "stdout",
     "output_type": "stream",
     "text": [
      "                 Confusion matrix\n",
      "                 Score positive    Score negative\n",
      "Actual positive       212                 0\n",
      "Actual negative        88                 0\n",
      "\n",
      "Accuracy  0.71\n",
      " \n",
      "           Positive      Negative\n",
      "Num case      212            88\n",
      "Precision    0.71          0.00\n",
      "Recall       1.00          0.00\n",
      "F1           0.83          0.00\n"
     ]
    },
    {
     "name": "stderr",
     "output_type": "stream",
     "text": [
      "/Users/lincolnmac16/opt/anaconda3/lib/python3.9/site-packages/sklearn/metrics/_classification.py:1327: UndefinedMetricWarning: Precision and F-score are ill-defined and being set to 0.0 in labels with no predicted samples. Use `zero_division` parameter to control this behavior.\n",
      "  _warn_prf(average, modifier, msg_start, len(result))\n"
     ]
    },
    {
     "data": {
      "image/png": "[encoded data removed]",
      "text/plain": [
       "<Figure size 640x480 with 1 Axes>"
      ]
     },
     "metadata": {},
     "output_type": "display_data"
    }
   ],
   "source": [
    "probs_positive = np.concatenate((np.ones((probabilities.shape[0], 1)), \n",
    "                                 np.zeros((probabilities.shape[0], 1))),\n",
    "                                 axis = 1)\n",
    "scores_positive = score_model(probs_positive, 0.5)\n",
    "print_metrics(y_test, scores_positive)  \n",
    "plot_auc(y_test, probs_positive) "
   ]
  },
  {
   "cell_type": "markdown",
   "metadata": {},
   "source": [
    "请注意，这个“分类器”的准确度是 0.71。 这反映了阶级失衡。 ROC 曲线直接沿着对角线，其 AUC 为 0.5。 逻辑回归分类器肯定比这个好！"
   ]
  },
  {
   "cell_type": "markdown",
   "metadata": {},
   "source": [
    "## 计算加权模型\n",
    "\n",
    "回想一下，将不良信用风险客户错误分类为良好的成本是银行将良好信用风险客户分类为不良客户的五倍。 鉴于这种情况，第一个模型的结果并不是那么好。 有两个原因：\n",
    "\n",
    "1. 标签中的类别不平衡导致了模型训练的偏差。 正如您从朴素“分类器”的准确性所观察到的那样，与逻辑回归模型没有什么不同。\n",
    "2. 没有采取任何措施以牺牲良好信用风险客户为代价，对结果进行加权以正确分类不良信用风险客户。\n",
    "\n",
    "解决这些问题的一种方法是在计算逻辑回归模型时对类别进行加权。 下面单元格中的代码将一个 class_weight 参数添加到对 LogisticRegression 函数的调用中。 在这种情况下，权重选择为 $0.45、0.55$，但您也可以给出其他组合。 执行这段代码"
   ]
  },
  {
   "cell_type": "code",
   "execution_count": 23,
   "metadata": {
    "scrolled": true
   },
   "outputs": [
    {
     "name": "stderr",
     "output_type": "stream",
     "text": [
      "/Users/lincolnmac16/opt/anaconda3/lib/python3.9/site-packages/sklearn/linear_model/_logistic.py:444: ConvergenceWarning: lbfgs failed to converge (status=1):\n",
      "STOP: TOTAL NO. of ITERATIONS REACHED LIMIT.\n",
      "\n",
      "Increase the number of iterations (max_iter) or scale the data as shown in:\n",
      "    https://scikit-learn.org/stable/modules/preprocessing.html\n",
      "Please also refer to the documentation for alternative solver options:\n",
      "    https://scikit-learn.org/stable/modules/linear_model.html#logistic-regression\n",
      "  n_iter_i = _check_optimize_result(\n"
     ]
    },
    {
     "data": {
      "text/html": [
       "<style>#sk-container-id-2 {color: black;background-color: white;}#sk-container-id-2 pre{padding: 0;}#sk-container-id-2 div.sk-toggleable {background-color: white;}#sk-container-id-2 label.sk-toggleable__label {cursor: pointer;display: block;width: 100%;margin-bottom: 0;padding: 0.3em;box-sizing: border-box;text-align: center;}#sk-container-id-2 label.sk-toggleable__label-arrow:before {content: \"▸\";float: left;margin-right: 0.25em;color: #696969;}#sk-container-id-2 label.sk-toggleable__label-arrow:hover:before {color: black;}#sk-container-id-2 div.sk-estimator:hover label.sk-toggleable__label-arrow:before {color: black;}#sk-container-id-2 div.sk-toggleable__content {max-height: 0;max-width: 0;overflow: hidden;text-align: left;background-color: #f0f8ff;}#sk-container-id-2 div.sk-toggleable__content pre {margin: 0.2em;color: black;border-radius: 0.25em;background-color: #f0f8ff;}#sk-container-id-2 input.sk-toggleable__control:checked~div.sk-toggleable__content {max-height: 200px;max-width: 100%;overflow: auto;}#sk-container-id-2 input.sk-toggleable__control:checked~label.sk-toggleable__label-arrow:before {content: \"▾\";}#sk-container-id-2 div.sk-estimator input.sk-toggleable__control:checked~label.sk-toggleable__label {background-color: #d4ebff;}#sk-container-id-2 div.sk-label input.sk-toggleable__control:checked~label.sk-toggleable__label {background-color: #d4ebff;}#sk-container-id-2 input.sk-hidden--visually {border: 0;clip: rect(1px 1px 1px 1px);clip: rect(1px, 1px, 1px, 1px);height: 1px;margin: -1px;overflow: hidden;padding: 0;position: absolute;width: 1px;}#sk-container-id-2 div.sk-estimator {font-family: monospace;background-color: #f0f8ff;border: 1px dotted black;border-radius: 0.25em;box-sizing: border-box;margin-bottom: 0.5em;}#sk-container-id-2 div.sk-estimator:hover {background-color: #d4ebff;}#sk-container-id-2 div.sk-parallel-item::after {content: \"\";width: 100%;border-bottom: 1px solid gray;flex-grow: 1;}#sk-container-id-2 div.sk-label:hover label.sk-toggleable__label {background-color: #d4ebff;}#sk-container-id-2 div.sk-serial::before {content: \"\";position: absolute;border-left: 1px solid gray;box-sizing: border-box;top: 0;bottom: 0;left: 50%;z-index: 0;}#sk-container-id-2 div.sk-serial {display: flex;flex-direction: column;align-items: center;background-color: white;padding-right: 0.2em;padding-left: 0.2em;position: relative;}#sk-container-id-2 div.sk-item {position: relative;z-index: 1;}#sk-container-id-2 div.sk-parallel {display: flex;align-items: stretch;justify-content: center;background-color: white;position: relative;}#sk-container-id-2 div.sk-item::before, #sk-container-id-2 div.sk-parallel-item::before {content: \"\";position: absolute;border-left: 1px solid gray;box-sizing: border-box;top: 0;bottom: 0;left: 50%;z-index: -1;}#sk-container-id-2 div.sk-parallel-item {display: flex;flex-direction: column;z-index: 1;position: relative;background-color: white;}#sk-container-id-2 div.sk-parallel-item:first-child::after {align-self: flex-end;width: 50%;}#sk-container-id-2 div.sk-parallel-item:last-child::after {align-self: flex-start;width: 50%;}#sk-container-id-2 div.sk-parallel-item:only-child::after {width: 0;}#sk-container-id-2 div.sk-dashed-wrapped {border: 1px dashed gray;margin: 0 0.4em 0.5em 0.4em;box-sizing: border-box;padding-bottom: 0.4em;background-color: white;}#sk-container-id-2 div.sk-label label {font-family: monospace;font-weight: bold;display: inline-block;line-height: 1.2em;}#sk-container-id-2 div.sk-label-container {text-align: center;}#sk-container-id-2 div.sk-container {/* jupyter's `normalize.less` sets `[hidden] { display: none; }` but bootstrap.min.css set `[hidden] { display: none !important; }` so we also need the `!important` here to be able to override the default hidden behavior on the sphinx rendered scikit-learn.org. See: https://github.com/scikit-learn/scikit-learn/issues/21755 */display: inline-block !important;position: relative;}#sk-container-id-2 div.sk-text-repr-fallback {display: none;}</style><div id=\"sk-container-id-2\" class=\"sk-top-container\"><div class=\"sk-text-repr-fallback\"><pre>LogisticRegression(class_weight={0: 0.45, 1: 0.55})</pre><b>In a Jupyter environment, please rerun this cell to show the HTML representation or trust the notebook. <br />On GitHub, the HTML representation is unable to render, please try loading this page with nbviewer.org.</b></div><div class=\"sk-container\" hidden><div class=\"sk-item\"><div class=\"sk-estimator sk-toggleable\"><input class=\"sk-toggleable__control sk-hidden--visually\" id=\"sk-estimator-id-2\" type=\"checkbox\" checked><label for=\"sk-estimator-id-2\" class=\"sk-toggleable__label sk-toggleable__label-arrow\">LogisticRegression</label><div class=\"sk-toggleable__content\"><pre>LogisticRegression(class_weight={0: 0.45, 1: 0.55})</pre></div></div></div></div></div>"
      ],
      "text/plain": [
       "LogisticRegression(class_weight={0: 0.45, 1: 0.55})"
      ]
     },
     "execution_count": 23,
     "metadata": {},
     "output_type": "execute_result"
    }
   ],
   "source": [
    "logistic_mod = linear_model.LogisticRegression(class_weight = {0:0.45, 1:0.55}) \n",
    "logistic_mod.fit(X_train, y_train)"
   ]
  },
  {
   "cell_type": "markdown",
   "metadata": {},
   "source": [
    "接下来，执行下面单元格中的代码以计算并显示每个案例的类别概率。"
   ]
  },
  {
   "cell_type": "code",
   "execution_count": 24,
   "metadata": {},
   "outputs": [
    {
     "name": "stdout",
     "output_type": "stream",
     "text": [
      "[[0.82690198 0.17309802]\n",
      " [0.33507853 0.66492147]\n",
      " [0.94160364 0.05839636]\n",
      " [0.25955968 0.74044032]\n",
      " [0.57864768 0.42135232]\n",
      " [0.95268352 0.04731648]\n",
      " [0.90620503 0.09379497]\n",
      " [0.52321553 0.47678447]\n",
      " [0.86734162 0.13265838]\n",
      " [0.87766149 0.12233851]\n",
      " [0.54008865 0.45991135]\n",
      " [0.36342034 0.63657966]\n",
      " [0.47483556 0.52516444]\n",
      " [0.71811741 0.28188259]\n",
      " [0.32598262 0.67401738]]\n"
     ]
    }
   ],
   "source": [
    "probabilities = logistic_mod.predict_proba(X_test)\n",
    "print(probabilities[:15,:])"
   ]
  },
  {
   "cell_type": "markdown",
   "metadata": {},
   "source": [
    "通过观察，上述概率与未加权模型并没有太大的不同。"
   ]
  },
  {
   "cell_type": "markdown",
   "metadata": {},
   "source": [
    "要查找未加权模型是否存在任何显着差异，请计算分数和指标，并通过执行下面单元格中的代码来显示指标。\n",
    "\n",
    "然后，回答课程页面上的**问题 4**。"
   ]
  },
  {
   "cell_type": "code",
   "execution_count": 25,
   "metadata": {
    "scrolled": false
   },
   "outputs": [
    {
     "name": "stdout",
     "output_type": "stream",
     "text": [
      "                 Confusion matrix\n",
      "                 Score positive    Score negative\n",
      "Actual positive       174                38\n",
      "Actual negative        32                56\n",
      "\n",
      "Accuracy  0.77\n",
      " \n",
      "           Positive      Negative\n",
      "Num case      212            88\n",
      "Precision    0.84          0.60\n",
      "Recall       0.82          0.64\n",
      "F1           0.83          0.62\n"
     ]
    },
    {
     "data": {
      "image/png": "[encoded data removed]",
      "text/plain": [
       "<Figure size 640x480 with 1 Axes>"
      ]
     },
     "metadata": {},
     "output_type": "display_data"
    }
   ],
   "source": [
    "scores = score_model(probabilities, 0.5)\n",
    "print_metrics(y_test, scores)  \n",
    "plot_auc(y_test, probabilities)  "
   ]
  },
  {
   "cell_type": "markdown",
   "metadata": {},
   "source": [
    "相对于未加权模型，准确度略有变化。 如果我们给其中一个班级赋予比我们在这里所做的更多的权重，那么变化可能会更大。 负样本的准确率、召回率和 F1 略好。 重新加权标签已将结果朝所需的方向移动，至少有一点。\n",
    "\n",
    "另请注意，ROC 曲线和 AUC 基本上没有变化。 真阳性和假阳性之间的权衡类似于未加权模型。"
   ]
  },
  {
   "cell_type": "markdown",
   "metadata": {},
   "source": [
    "## 找到更好的阈值\n",
    "\n",
    "还有另一种方法可以使模型评分朝着正确识别不良信用案例的方向倾斜。 可以调整评分阈值。 到目前为止，分数是使用 0.5 的阈值根据概率计算的。 但是，没有理由认为这是正确的选择。 回想一下，分数是通过沿着 S 形函数或逻辑函数设置阈值来确定的。 通过改变这条曲线上的阈值，可以支持正面或负面案例。\n",
    "\n",
    "下面单元格中的代码包含一个函数，用于根据给定的阈值对模型进行评分和评估。 `for` 循环遍历五个候选阈值的列表。 执行此代码并检查更改阈值如何改变模型的评分。"
   ]
  },
  {
   "cell_type": "code",
   "execution_count": 26,
   "metadata": {},
   "outputs": [
    {
     "name": "stdout",
     "output_type": "stream",
     "text": [
      "\n",
      "For threshold = 0.45\n",
      "                 Confusion matrix\n",
      "                 Score positive    Score negative\n",
      "Actual positive       157                55\n",
      "Actual negative        27                61\n",
      "\n",
      "Accuracy  0.73\n",
      " \n",
      "           Positive      Negative\n",
      "Num case      212            88\n",
      "Precision    0.85          0.53\n",
      "Recall       0.74          0.69\n",
      "F1           0.79          0.60\n",
      "\n",
      "For threshold = 0.4\n",
      "                 Confusion matrix\n",
      "                 Score positive    Score negative\n",
      "Actual positive       144                68\n",
      "Actual negative        25                63\n",
      "\n",
      "Accuracy  0.69\n",
      " \n",
      "           Positive      Negative\n",
      "Num case      212            88\n",
      "Precision    0.85          0.48\n",
      "Recall       0.68          0.72\n",
      "F1           0.76          0.58\n",
      "\n",
      "For threshold = 0.35\n",
      "                 Confusion matrix\n",
      "                 Score positive    Score negative\n",
      "Actual positive       139                73\n",
      "Actual negative        23                65\n",
      "\n",
      "Accuracy  0.68\n",
      " \n",
      "           Positive      Negative\n",
      "Num case      212            88\n",
      "Precision    0.86          0.47\n",
      "Recall       0.66          0.74\n",
      "F1           0.74          0.58\n",
      "\n",
      "For threshold = 0.3\n",
      "                 Confusion matrix\n",
      "                 Score positive    Score negative\n",
      "Actual positive       126                86\n",
      "Actual negative        19                69\n",
      "\n",
      "Accuracy  0.65\n",
      " \n",
      "           Positive      Negative\n",
      "Num case      212            88\n",
      "Precision    0.87          0.45\n",
      "Recall       0.59          0.78\n",
      "F1           0.71          0.57\n",
      "\n",
      "For threshold = 0.25\n",
      "                 Confusion matrix\n",
      "                 Score positive    Score negative\n",
      "Actual positive       109               103\n",
      "Actual negative        16                72\n",
      "\n",
      "Accuracy  0.60\n",
      " \n",
      "           Positive      Negative\n",
      "Num case      212            88\n",
      "Precision    0.87          0.41\n",
      "Recall       0.51          0.82\n",
      "F1           0.65          0.55\n"
     ]
    }
   ],
   "source": [
    "def test_threshold(probs, labels, threshold):\n",
    "    scores = score_model(probs, threshold)\n",
    "    print('')\n",
    "    print('For threshold = ' + str(threshold))\n",
    "    print_metrics(labels, scores)\n",
    "\n",
    "thresholds = [0.45, 0.40, 0.35, 0.3, 0.25]\n",
    "for t in thresholds:\n",
    "    test_threshold(probabilities, y_test, t)"
   ]
  },
  {
   "cell_type": "markdown",
   "metadata": {},
   "source": [
    "随着阈值的降低，正确分类的负面案例（不良信用客户）的数量增加，但以正确分类正面案例（良好信用客户）为代价。 同时，准确性下降。 但是，正如您所观察到的，准确性在这里并不是一个特别有用的指标。\n",
    "\n",
    "究竟选择哪个阈值是一个商业决策。 请注意，阈值为 0.25 时，假阴性（错误分类良好信用客户）的数量大约是误报（错误分类不良信用客户）的四倍。"
   ]
  },
  {
   "cell_type": "markdown",
   "metadata": {},
   "source": [
    "## 概括\n",
    "\n",
    "在本课中，您完成了以下操作：\n",
    "\n",
    "1. 准备信用风险数据集，用于scikit-learn建模。 这些步骤包括缩放数字特征，以及对分类特征进行虚拟变量编码。 结果是一个 numpy 特征数组和一个 numpy 标签值数组。\n",
    "2. 计算逻辑回归模型。\n",
    "3. 使用多个指标评估模块的性能。 很明显，准确性在这里并不是一个特别有用的指标。 由于类不平衡，朴素的“分类器”产生的准确性只是稍微差一点。 混淆矩阵和精确度、召回率和 F1 统计量提供了有意义的模型性能度量，尤其是在一起考虑时。\n",
    "4. 重新加权标签并更改重新加权模型的决策阈值。 这些步骤有助于克服类别不平衡问题和银行错误分类的不对称成本。"
   ]
  },
  {
   "cell_type": "code",
   "execution_count": null,
   "metadata": {},
   "outputs": [],
   "source": []
  }
 ],
 "metadata": {
  "kernelspec": {
   "display_name": "Python 3 (ipykernel)",
   "language": "python",
   "name": "python3"
  },
  "language_info": {
   "codemirror_mode": {
    "name": "ipython",
    "version": 3
   },
   "file_extension": ".py",
   "mimetype": "text/x-python",
   "name": "python",
   "nbconvert_exporter": "python",
   "pygments_lexer": "ipython3",
   "version": "3.9.13"
  },
  "toc": {
   "base_numbering": 1,
   "nav_menu": {},
   "number_sections": true,
   "sideBar": true,
   "skip_h1_title": false,
   "title_cell": "Table of Contents",
   "title_sidebar": "Contents",
   "toc_cell": false,
   "toc_position": {},
   "toc_section_display": true,
   "toc_window_display": false
  }
 },
 "nbformat": 4,
 "nbformat_minor": 2
}
